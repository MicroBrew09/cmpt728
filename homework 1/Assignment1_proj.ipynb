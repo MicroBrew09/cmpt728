{
 "cells": [
  {
   "cell_type": "markdown",
   "metadata": {},
   "source": [
    "# Deep Learning Course"
   ]
  },
  {
   "cell_type": "markdown",
   "metadata": {},
   "source": [
    "## Assignment 1"
   ]
  },
  {
   "cell_type": "markdown",
   "metadata": {},
   "source": [
    "#### Assignment Goals:\n",
    "\n",
    "* Start with Keras.\n",
    "* Implement and apply logistic regression and multi-layer feed-forward neural network classifiers.\n",
    "* Understand the differences and trade-offs between linear regression, logistic regression, and multi-layer feed-forward neural network.\n",
    "\n",
    "In this assignment, you will be asked to install Keras and Jupyter Notebook. Keras is packaged with TensorFlow 2.0 as tensorflow.keras, so you actually need to install Tensorflow 2.0. (TA's environment to run your code is Python 3.7 + Tensorflow 2.4). In addition, you are required to design several models to classify a Toy Dataset (Figure 1).\n",
    "\n",
    "#### Dataset: \n",
    "\n",
    "We provide a toy dataset, which has 200 instances and 2 features. See below \"Toy Data and Helper Functions\" section for toy data generation code. \n",
    "\n",
    "You do not need to generate separated training dataset and test dataset for this assignment. Both training and prediction will both be on one dataset. Directly use the \"sample, target\" variables we provide as the dataset for your assignment. \n",
    "\n",
    "In the following accuracy is defined as the empirical accuracy on the training set, that is, accuracy = {number of correctly predicted instances}/{number of all instances in dataset}).\n",
    "\n",
    "#### Requirements\n",
    "\n",
    "1. Install Keras (Tensorflow 2) and Jupyter Notebook. (10 points)\n",
    "    \n",
    "2. Implement a [logistic regression](https://towardsdatascience.com/logistic-regression-detailed-overview-46c4da4303bc) to classify the Toy Dataset. (20 points) We have provided a very simple linear regression example, please refer to the example and implement your logistic regression model. \n",
    "    * You should determine: what loss function and what optimization algorithm do you plan to use? (4 points)\n",
    "    * Try to reach > 72% accuracy. (4 points)\n",
    "    * We have provided a visualize() helper function, you can visualize the model's decision boundary using that function. What's more, you are asked to compute and visualize **the equation of the decision boundary** of your trained **logistic regression**. Fill in the 'equation of decision boundary' column in the following table. Then you can modify the visualize() function or implement a new visualization function to draw the linear decision boundary (Hint: should be a straight line aligned with the decision boundary plotted in visualize()). (5 points)\n",
    "    \n",
    "\n",
    "3. Implement a multi-layer linear neural network (>= 2 hidden layers) to classify the Toy Dataset. (20 points) A deep linear neural network is a deep feed-forward neural network without activation functions (See [here](https://www.cs.princeton.edu/courses/archive/fall19/cos597B/lecnotes/linearnetsbyNC.pdf), page 11-13 for detail introduction of linear neural networks). \n",
    "    * You should determine: what loss function and what optimization algorithm do you plan to use, what is your network structure? (4 points)\n",
    "    * Try to reach > 72% accuracy. (4 points)\n",
    "    * Compute and visualize **the equation of the decision boundary** of your trained **linear neural network**. Fill in the 'equation of decision boundary' column in the following table. Then you can modify the visualize() function or implement a new visualization function to draw the linear decision boundary. (5 points)\n",
    "    \n",
    "\n",
    "4. Implement a multi-layer feed-forward neural network (>= 2 hidden layers). (20 points)\n",
    "    * You should determine: what loss function and what optimization algorithm do you plan to use? what is your network structure? what activation function do you use? (5 points)\n",
    "    * Try to reach 100% accuracy. (5 points)\n",
    "\n",
    "\n",
    "5. Add L2-regularization to your implemented nonlinear neural network in (4.). Set the coefficient of L2-regularization to be 0.01, 2, 100, respectively. How do different values of coefficient of L2-regularization affect the model (i.e., model parameters, loss value, accuracy, decision boundary)? You can use a table to compare models trained without regularization, with different coefficients of regularization. (20 points) \n",
    "    * Please draw your table and analysis in the '**Answers and Analysis**' section.\n",
    "\n",
    "\n",
    "You should:\n",
    "\n",
    "* Train each of your models to its best accuracy. Then fill in the following table in the '**Answers and Analysis**' section.\n",
    "\n",
    "* Complete the '**Answers and Analysis**' section. \n",
    "\n",
    "#### Answers and Analysis\n",
    "\n",
    "* First, fill in the following table. The '-' indicates a cell that does not need to be filled in.\n",
    "\n",
    "|  Model | Loss  | Accuracy | Equation of Decision Boundary | NN Structure | Activation Function | Loss Function |\n",
    "|---|:---:|:---:|:---: | :---: | :---: | :---: |\n",
    "| Linear Regression  |  0.14 |  72.96% | $-1.28x_1+7.62x_2 - 0.07=0$  | -  | -  | Mean Square Error  |\n",
    "| Logistic Regression  |   |   |   | -  |  - |   | \n",
    "| Linear Neural Network  |   |   |   |   |   |   | \n",
    "| Feedforward Neural Network |   |   | -  |   |   |   |\n",
    "\n",
    "\n",
    "* Then, compare and analyze the classification results of your models. In particular, are there any differences between the performance (i.e., accuracy, loss value) of linear regression, logistic regression, linear neural network and deep nonlinear neural network? What do you think is the reason for the difference? (10 points)\n",
    "\n",
    "* Your table and analysis of (5. Add L2-regularization) here.\n",
    "\n",
    "\n",
    "\n",
    "#### Submission Notes:\n",
    "\n",
    "Please use Jupyter Notebook. The notebook should include the final code, results and your answers. You should submit your Notebook in both .pdf and .ipynb format. \n",
    "\n",
    "\n",
    "\n",
    "#### Instructions:\n",
    "\n",
    "The university policy on academic dishonesty and plagiarism (cheating) will be taken very seriously in this course. Everything submitted should be your own writing or coding. You must not let other students copy your work. Spelling and grammar count.\n",
    "\n",
    "\n",
    "Your assignments will be marked based on correctness, originality (the implementations and ideas are from yourself), clarity and performance.\n",
    "Clarity means whether the logic of your code is easy to follow. This includes 1) comments to explain the logic of your code 2) meaningful variable names. Performance includes loss value and accuracy after training.\n",
    "\n",
    "\n",
    "  "
   ]
  },
  {
   "cell_type": "markdown",
   "metadata": {},
   "source": [
    "## Your Implementation"
   ]
  },
  {
   "cell_type": "markdown",
   "metadata": {},
   "source": [
    "### Toy Data and Helper Functions"
   ]
  },
  {
   "cell_type": "code",
   "execution_count": 2,
   "metadata": {},
   "outputs": [],
   "source": [
    "import tensorflow as tf\n",
    "from tensorflow import keras\n",
    "import numpy as np\n",
    "from tensorflow.keras.models import Sequential\n",
    "import matplotlib.pyplot as plt\n"
   ]
  },
  {
   "cell_type": "code",
   "execution_count": 3,
   "metadata": {},
   "outputs": [],
   "source": [
    "# helper functions\n",
    "\n",
    "# helper function for geterating the data\n",
    "def data_generator(N = 200,D = 2,K = 2):\n",
    "    \"\"\"\n",
    "    N: number of points per class; \n",
    "    D: dimensionality; \n",
    "    K: number of classes\n",
    "    \"\"\"\n",
    "    np.random.seed(0)\n",
    "    X = np.zeros((N*K,D))\n",
    "    y = np.zeros((N*K), dtype='uint8')\n",
    "    \n",
    "    for j in range(K):\n",
    "      ix = range(N*j,N*(j+1))\n",
    "      r = np.linspace(0.0,1,N) # radius\n",
    "      t = np.linspace(j*4,(j+1)*4,N) + np.random.randn(N)*0.3 # theta\n",
    "      X[ix] = np.c_[r*np.sin(t), r*np.cos(t)]\n",
    "      y[ix] = j\n",
    "    \n",
    "    fig = plt.figure()\n",
    "    plt.title('Figure 1: DataSet')\n",
    "    plt.scatter(X[:, 0], X[:, 1], c=y, s=40, cmap=plt.cm.Spectral)\n",
    "   \n",
    "    plt.xlim(X.min()-.5, X.max()+.5)\n",
    "    plt.ylim(X.min()-.5, X.max()+.5)\n",
    "    \n",
    "    return X,y\n",
    "\n",
    "\n",
    "# helper function for visualizing the decision boundaries\n",
    "def visualize(sample, target, model):\n",
    "    \"\"\"\n",
    "    function for visualizing the classifier boundaries on the TOY dataset.\n",
    "\n",
    "    sample: Training data features\n",
    "    target: Target \n",
    "    model: the model\n",
    "    \"\"\"\n",
    "    h = 0.02\n",
    "    x_min, x_max = sample[:, 0].min() - 1, sample[:, 0].max() + 1\n",
    "    y_min, y_max = sample[:, 1].min() - 1, sample[:, 1].max() + 1\n",
    "    xx, yy = np.meshgrid(np.arange(x_min, x_max, h), np.arange(y_min, y_max, h))\n",
    "    \n",
    "\n",
    "    Z = model.predict_classes(np.c_[xx.ravel(), yy.ravel()])\n",
    "    Z = Z.reshape(xx.shape)\n",
    "    \n",
    "    fig = plt.figure()\n",
    "    plt.contourf(xx, yy, Z, cmap=plt.cm.Spectral, alpha=0.8)\n",
    "    plt.scatter(sample[:, 0], sample[:, 1], c=target, s=40, cmap=plt.cm.Spectral)\n",
    "    plt.xlim(xx.min(), xx.max())\n",
    "    plt.ylim(yy.min(), yy.max())\n",
    "    \n",
    "    return\n",
    "    "
   ]
  },
  {
   "cell_type": "code",
   "execution_count": 4,
   "metadata": {},
   "outputs": [
    {
     "data": {
      "image/png": "[encoded data removed]",
      "text/plain": [
       "<Figure size 432x288 with 1 Axes>"
      ]
     },
     "metadata": {
      "needs_background": "light"
     },
     "output_type": "display_data"
    }
   ],
   "source": [
    "#  TOY DataSet\n",
    "sample, target = data_generator(N = 200)\n",
    "# print(target.shape)"
   ]
  },
  {
   "cell_type": "markdown",
   "metadata": {},
   "source": [
    "### Given Example: Linear Regression\n",
    "\n",
    "\n",
    "Note that linear regression is usually used for regression tasks, not classification tasks. However, it can be used for binary classification problems (be labeled 0, 1) with a threshold classifier. That is, when linear regression outputs > 0.5, the prediction is 1; otherwise, the prediction is 0. "
   ]
  },
  {
   "cell_type": "code",
   "execution_count": 5,
   "metadata": {
    "scrolled": true
   },
   "outputs": [
    {
     "name": "stdout",
     "output_type": "stream",
     "text": [
      "Train on 400 samples\n",
      "Epoch 1/5\n",
      "400/400 [==============================] - 1s 2ms/sample - loss: 0.1735 - accuracy: 0.7425\n",
      "Epoch 2/5\n",
      "400/400 [==============================] - 1s 2ms/sample - loss: 0.1445 - accuracy: 0.7475\n",
      "Epoch 3/5\n",
      "400/400 [==============================] - 1s 2ms/sample - loss: 0.1446 - accuracy: 0.7375\n",
      "Epoch 4/5\n",
      "400/400 [==============================] - 1s 2ms/sample - loss: 0.1433 - accuracy: 0.7400\n",
      "Epoch 5/5\n",
      "400/400 [==============================] - 1s 2ms/sample - loss: 0.1450 - accuracy: 0.7550\n"
     ]
    }
   ],
   "source": [
    "#Define the model\n",
    "linear_regression = keras.Sequential()\n",
    "\n",
    "linear_regression.add(keras.layers.Dense(1,\"linear\"))\n",
    "\n",
    "linear_regression.compile(optimizer=\"sgd\",loss= keras.losses.MeanSquaredError(), metrics=['accuracy'])\n",
    "\n",
    "# Train the model\n",
    "value_epoches = linear_regression.fit(sample, target, epochs=5,batch_size=1)"
   ]
  },
  {
   "cell_type": "code",
   "execution_count": 6,
   "metadata": {},
   "outputs": [
    {
     "data": {
      "image/png": "[encoded data removed]",
      "text/plain": [
       "<Figure size 432x288 with 1 Axes>"
      ]
     },
     "metadata": {
      "needs_background": "light"
     },
     "output_type": "display_data"
    }
   ],
   "source": [
    "visualize(sample,target, linear_regression)"
   ]
  },
  {
   "cell_type": "markdown",
   "metadata": {},
   "source": [
    "**Here is an example: the green line is the line of the decision boundary. You should draw the linear decision boundary like this.**"
   ]
  },
  {
   "cell_type": "markdown",
   "metadata": {},
   "source": [
    "![hw1_img1.png](hw1_img1.png)"
   ]
  },
  {
   "cell_type": "markdown",
   "metadata": {},
   "source": [
    "### Logistic Regression"
   ]
  },
  {
   "cell_type": "code",
   "execution_count": null,
   "metadata": {
    "scrolled": true
   },
   "outputs": [],
   "source": [
    "# implement your logistic regression here"
   ]
  },
  {
   "cell_type": "markdown",
   "metadata": {},
   "source": [
    "### Deep Linear Neural Network"
   ]
  },
  {
   "cell_type": "code",
   "execution_count": null,
   "metadata": {},
   "outputs": [],
   "source": [
    "# # implement your nonlinear feed forward neural network here"
   ]
  },
  {
   "cell_type": "markdown",
   "metadata": {},
   "source": [
    "### Deep Neural Network"
   ]
  },
  {
   "cell_type": "code",
   "execution_count": null,
   "metadata": {},
   "outputs": [],
   "source": [
    "# implement your nonlinear feed forward neural network here"
   ]
  },
  {
   "cell_type": "markdown",
   "metadata": {},
   "source": [
    "### Deep Neural Network with L2-regularization\n",
    "\n",
    "$\\lambda = 0.01, 2, 100$\n"
   ]
  },
  {
   "cell_type": "code",
   "execution_count": null,
   "metadata": {},
   "outputs": [],
   "source": []
  }
 ],
 "metadata": {
  "kernelspec": {
   "display_name": "Python 3",
   "language": "python",
   "name": "python3"
  },
  "language_info": {
   "codemirror_mode": {
    "name": "ipython",
    "version": 3
   },
   "file_extension": ".py",
   "mimetype": "text/x-python",
   "name": "python",
   "nbconvert_exporter": "python",
   "pygments_lexer": "ipython3",
   "version": "3.7.3"
  }
 },
 "nbformat": 4,
 "nbformat_minor": 2
}
